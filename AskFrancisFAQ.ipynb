{
  "nbformat": 4,
  "nbformat_minor": 0,
  "metadata": {
    "colab": {
      "name": "AskFrancisFAQ.ipynb",
      "version": "0.3.2",
      "provenance": [],
      "include_colab_link": true
    },
    "kernelspec": {
      "name": "python2",
      "display_name": "Python 2"
    },
    "accelerator": "TPU"
  },
  "cells": [
    {
      "cell_type": "markdown",
      "metadata": {
        "id": "view-in-github",
        "colab_type": "text"
      },
      "source": [
        "<a href=\"https://colab.research.google.com/github/learning-stack/Colab-ML-BenProjects/blob/master/AskFrancisFAQ.ipynb\" target=\"_parent\"><img src=\"https://colab.research.google.com/assets/colab-badge.svg\" alt=\"Open In Colab\"/></a>"
      ]
    },
    {
      "cell_type": "markdown",
      "metadata": {
        "id": "uZldgz5j9X1c",
        "colab_type": "text"
      },
      "source": [
        "# Ask Francis FAQ\n",
        "FLL (web@fll.cc)\n"
      ]
    },
    {
      "cell_type": "markdown",
      "metadata": {
        "id": "EVaQ3oSjSmDL",
        "colab_type": "text"
      },
      "source": [
        "<table class=\"tfo-notebook-buttons\" align=\"left\">\n",
        "  <td>\n",
        "    <a target=\"_blank\" href=\"https://colab.research.google.com/github/learning-stack/Colab-ML-BenProjects/blob/master/AskFrancisFAQ/AskFrancisFAQ.ipynb\"><img src=\"https://www.tensorflow.org/images/colab_logo_32px.png\" />Run in Google Colab</a>\n",
        "  </td>\n",
        "  <td>\n",
        "    <a target=\"_blank\" href=\"https://github.com/learning-stack/Colab-ML-BenProjects/blob/master/AskFrancisFAQ/AskFrancisFAQ.ipynb\"><img src=\"https://www.tensorflow.org/images/GitHub-Mark-32px.png\" />View source on GitHub</a>\n",
        "  </td>\n",
        "</table>"
      ]
    },
    {
      "cell_type": "code",
      "metadata": {
        "id": "OM-dpqQa9X1g",
        "colab_type": "code",
        "colab": {
          "base_uri": "https://localhost:8080/",
          "height": 425
        },
        "outputId": "57918420-36da-443c-9148-62e67c648676"
      },
      "source": [
        "!pip install indicoio\n",
        "import indicoio\n",
        "indicoio.config.api_key = '3e308585ac44074507c9515ddd8a0d6f'"
      ],
      "execution_count": 2,
      "outputs": [
        {
          "output_type": "stream",
          "text": [
            "Collecting indicoio\n",
            "  Downloading https://files.pythonhosted.org/packages/11/89/c3930199b45d7eaea3d7a013833aaaa84a04d4dd786359b61d47c4940da6/IndicoIo-1.2.0-py2-none-any.whl\n",
            "Requirement already satisfied: requests>=1.2.3 in /usr/local/lib/python2.7/dist-packages (from indicoio) (2.21.0)\n",
            "Requirement already satisfied: numpy>=1.14.1 in /usr/local/lib/python2.7/dist-packages (from indicoio) (1.16.4)\n",
            "Requirement already satisfied: msgpack==0.5.6 in /usr/local/lib/python2.7/dist-packages (from indicoio) (0.5.6)\n",
            "Collecting msgpack-numpy==0.4.1 (from indicoio)\n",
            "  Downloading https://files.pythonhosted.org/packages/2e/43/393e30e2768b0357541ac95891f96b80ccc4d517e0dd2fa3042fc8926538/msgpack_numpy-0.4.1-py2.py3-none-any.whl\n",
            "Requirement already satisfied: pillow>=2.8.1 in /usr/local/lib/python2.7/dist-packages (from indicoio) (4.3.0)\n",
            "Requirement already satisfied: six>=1.3.0 in /usr/local/lib/python2.7/dist-packages (from indicoio) (1.12.0)\n",
            "Requirement already satisfied: futures>=3.0.0 in /usr/local/lib/python2.7/dist-packages (from indicoio) (3.2.0)\n",
            "Requirement already satisfied: urllib3<1.25,>=1.21.1 in /usr/local/lib/python2.7/dist-packages (from requests>=1.2.3->indicoio) (1.24.3)\n",
            "Requirement already satisfied: certifi>=2017.4.17 in /usr/local/lib/python2.7/dist-packages (from requests>=1.2.3->indicoio) (2019.6.16)\n",
            "Requirement already satisfied: chardet<3.1.0,>=3.0.2 in /usr/local/lib/python2.7/dist-packages (from requests>=1.2.3->indicoio) (3.0.4)\n",
            "Requirement already satisfied: idna<2.9,>=2.5 in /usr/local/lib/python2.7/dist-packages (from requests>=1.2.3->indicoio) (2.8)\n",
            "Collecting msgpack-python>=0.3.0 (from msgpack-numpy==0.4.1->indicoio)\n",
            "\u001b[?25l  Downloading https://files.pythonhosted.org/packages/8a/20/6eca772d1a5830336f84aca1d8198e5a3f4715cd1c7fc36d3cc7f7185091/msgpack-python-0.5.6.tar.gz (138kB)\n",
            "\u001b[K     |████████████████████████████████| 143kB 8.8MB/s \n",
            "\u001b[?25hRequirement already satisfied: olefile in /usr/local/lib/python2.7/dist-packages (from pillow>=2.8.1->indicoio) (0.46)\n",
            "Building wheels for collected packages: msgpack-python\n",
            "  Building wheel for msgpack-python (setup.py) ... \u001b[?25l\u001b[?25hdone\n",
            "  Stored in directory: /root/.cache/pip/wheels/d5/de/86/7fa56fda12511be47ea0808f3502bc879df4e63ab168ec0406\n",
            "Successfully built msgpack-python\n",
            "Installing collected packages: msgpack-python, msgpack-numpy, indicoio\n",
            "Successfully installed indicoio-1.2.0 msgpack-numpy-0.4.1 msgpack-python-0.5.6\n"
          ],
          "name": "stdout"
        }
      ]
    },
    {
      "cell_type": "code",
      "metadata": {
        "id": "Y9ItaMcGzHW9",
        "colab_type": "code",
        "colab": {
          "base_uri": "https://localhost:8080/",
          "height": 34
        },
        "outputId": "3502b5b8-5343-42bf-9ccd-85ad7c535eb8"
      },
      "source": [
        "## Making the first call\n",
        "\n",
        "# single example\n",
        "indicoio.sentiment(\"I love writing code!\")"
      ],
      "execution_count": 3,
      "outputs": [
        {
          "output_type": "execute_result",
          "data": {
            "text/plain": [
              "0.9819219949985644"
            ]
          },
          "metadata": {
            "tags": []
          },
          "execution_count": 3
        }
      ]
    },
    {
      "cell_type": "code",
      "metadata": {
        "id": "_jcYOU2czSyz",
        "colab_type": "code",
        "colab": {
          "base_uri": "https://localhost:8080/",
          "height": 34
        },
        "outputId": "b14d492a-171f-46a0-9af6-b67652c8eeb0"
      },
      "source": [
        "# batch example\n",
        "indicoio.sentiment([\n",
        "    \"I love writing code!\",\n",
        "    \"Alexander and the Terrible, Horrible, No Good, Very Bad Day\"\n",
        "])"
      ],
      "execution_count": 4,
      "outputs": [
        {
          "output_type": "execute_result",
          "data": {
            "text/plain": [
              "[0.9819219949985644, 0.00015202198176385973]"
            ]
          },
          "metadata": {
            "tags": []
          },
          "execution_count": 4
        }
      ]
    },
    {
      "cell_type": "code",
      "metadata": {
        "id": "cR9XWlnc0Fra",
        "colab_type": "code",
        "colab": {}
      },
      "source": [
        "faqs = {\n",
        "    'Where can I find my API Key?':'Hi there! You receive an API key upon sign up. After you confirm your email you will be able to log in to your dashboard at indico.io/dashboard and see your API key on the top of the screen.',\n",
        "    'Can indico be downloaded as a package and used offline?':'Unfortunately, no. However we do have a paid option for on premise deployment for enterprise clients.',\n",
        "    'What is indico API credit?':'Hello! indico API credit is what we use to keep track of usage. If you send in 100 bits of text into our API you are charged 100 credits, essentially one credit is consumed per datapoint analyzed. Every user gets 10,000 free API credits per month.',\n",
        "    'Would I be able to set up a Pay as You Go account and have it stop if I reach 10,000 calls so that I won\\'t be charged if I accidentally go over the limit?':'Hi there! Yep, the best way for you to do this would be to sign up for a pay as you go account and don\\'t put in a credit card (we don\\'t require you to). When you hit 10,000 you will be locked out of your account and unable to make more calls until you put a credit card in or you can wait until the first of the month when it resets to 10,000.',\n",
        "    'Hello! When I try to install indico with pip, I get this error on Windows. Do you know why?':'Hello, please try following the steps listed here: https://indico.io/blog/getting-started-indico-tutorial-for-beginning-programmers/#windows and let us know if you still continue to have problems.'\n",
        "}\n"
      ],
      "execution_count": 0,
      "outputs": []
    },
    {
      "cell_type": "code",
      "metadata": {
        "id": "6CQKQO0dQiRo",
        "colab_type": "code",
        "colab": {
          "base_uri": "https://localhost:8080/",
          "height": 34
        },
        "outputId": "c6fadc5a-290c-4f7b-e46a-27a7d71549c8"
      },
      "source": [
        "!pip install tqdm\n",
        "from tqdm import tqdm"
      ],
      "execution_count": 12,
      "outputs": [
        {
          "output_type": "stream",
          "text": [
            "Requirement already satisfied: tqdm in /usr/local/lib/python2.7/dist-packages (4.28.1)\n"
          ],
          "name": "stdout"
        }
      ]
    },
    {
      "cell_type": "code",
      "metadata": {
        "id": "M9aaD6byzd5L",
        "colab_type": "code",
        "colab": {}
      },
      "source": [
        "def make_feats(data):\n",
        "    \"\"\"\n",
        "    Send our text data through the indico API and return each text example's text vector representation\n",
        "    \"\"\"\n",
        "    chunks = [data[x:x+100] for x in xrange(0, len(data), 100)]\n",
        "    feats = []\n",
        "    # just a progress bar to show us how much we have left\n",
        "    for chunk in tqdm(chunks):\n",
        "        feats.extend(indicoio.text_features(chunk))\n",
        "    return feats"
      ],
      "execution_count": 0,
      "outputs": []
    },
    {
      "cell_type": "code",
      "metadata": {
        "id": "EusBpbN7zkgD",
        "colab_type": "code",
        "colab": {
          "base_uri": "https://localhost:8080/",
          "height": 68
        },
        "outputId": "68231ed7-2207-4f50-c285-8586e97fff54"
      },
      "source": [
        "data = faqs.keys()\n",
        "print (\"FAQ data received. Finding features.\")\n",
        "\n",
        "import pickle\n",
        "\n",
        "feats = make_feats(data)\n",
        "with open('faq_feats.pkl', 'wb') as f:\n",
        "    pickle.dump(feats, f)\n",
        "print (\"FAQ features found!\")"
      ],
      "execution_count": 15,
      "outputs": [
        {
          "output_type": "stream",
          "text": [
            "\r  0%|          | 0/1 [00:00<?, ?it/s]"
          ],
          "name": "stderr"
        },
        {
          "output_type": "stream",
          "text": [
            "FAQ data received. Finding features.\n"
          ],
          "name": "stdout"
        },
        {
          "output_type": "stream",
          "text": [
            "\r100%|██████████| 1/1 [00:00<00:00,  5.01it/s]"
          ],
          "name": "stderr"
        },
        {
          "output_type": "stream",
          "text": [
            "FAQ features found!\n"
          ],
          "name": "stdout"
        },
        {
          "output_type": "stream",
          "text": [
            "\n"
          ],
          "name": "stderr"
        }
      ]
    },
    {
      "cell_type": "code",
      "metadata": {
        "id": "N_rKRRWA_Xiy",
        "colab_type": "code",
        "colab": {}
      },
      "source": [
        "# Import custom library from my github\n",
        "\n",
        "import urllib.request\n",
        "\n",
        "def download(url):\n",
        "    filename = url.split('/')[-1]\n",
        "    print ('Downloading', filename)\n",
        "    f =  urllib.request.urlopen(url)\n",
        "    data = f.read()\n",
        "    f.close()\n",
        "    with open(filename, 'wb') as myfile:\n",
        "        myfile.write(data)\n",
        "\n",
        "# get .py file from repository\n",
        "download('https://raw.githubusercontent.com/learning-stack/Colab-ML-Playbook/master/NLP/Automatic%20tagging%20of%20short%20texts/lib/utils.py')\n",
        "\n",
        "# verify the file if necessary\n",
        "# print(open('future_encoders.py').read())"
      ],
      "execution_count": 0,
      "outputs": []
    },
    {
      "cell_type": "code",
      "metadata": {
        "id": "lGwrN2FT_Poz",
        "colab_type": "code",
        "colab": {}
      },
      "source": [
        "from utils import plot_confusion_matrix"
      ],
      "execution_count": 0,
      "outputs": []
    },
    {
      "cell_type": "code",
      "metadata": {
        "id": "YsnSDlsE9X1o",
        "colab_type": "code",
        "colab": {}
      },
      "source": [
        "np.set_printoptions(precision=3, linewidth=100)\n",
        "%matplotlib notebook\n",
        "%matplotlib inline"
      ],
      "execution_count": 0,
      "outputs": []
    }
  ]
}