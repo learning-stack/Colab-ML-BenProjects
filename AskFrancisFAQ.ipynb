{
  "nbformat": 4,
  "nbformat_minor": 0,
  "metadata": {
    "colab": {
      "name": "AskFrancisFAQ.ipynb",
      "version": "0.3.2",
      "provenance": [],
      "include_colab_link": true
    },
    "kernelspec": {
      "name": "python2",
      "display_name": "Python 2"
    },
    "accelerator": "TPU"
  },
  "cells": [
    {
      "cell_type": "markdown",
      "metadata": {
        "id": "view-in-github",
        "colab_type": "text"
      },
      "source": [
        "<a href=\"https://colab.research.google.com/github/learning-stack/Colab-ML-BenProjects/blob/master/AskFrancisFAQ.ipynb\" target=\"_parent\"><img src=\"https://colab.research.google.com/assets/colab-badge.svg\" alt=\"Open In Colab\"/></a>"
      ]
    },
    {
      "cell_type": "markdown",
      "metadata": {
        "id": "uZldgz5j9X1c",
        "colab_type": "text"
      },
      "source": [
        "# Ask Francis FAQ\n",
        "FLL (web@fll.cc)\n"
      ]
    },
    {
      "cell_type": "markdown",
      "metadata": {
        "id": "EVaQ3oSjSmDL",
        "colab_type": "text"
      },
      "source": [
        "<table class=\"tfo-notebook-buttons\" align=\"left\">\n",
        "  <td>\n",
        "    <a target=\"_blank\" href=\"https://colab.research.google.com/github/learning-stack/Colab-ML-BenProjects/blob/master/AskFrancisFAQ/AskFrancisFAQ.ipynb\"><img src=\"https://www.tensorflow.org/images/colab_logo_32px.png\" />Run in Google Colab</a>\n",
        "  </td>\n",
        "  <td>\n",
        "    <a target=\"_blank\" href=\"https://github.com/learning-stack/Colab-ML-BenProjects/blob/master/AskFrancisFAQ/AskFrancisFAQ.ipynb\"><img src=\"https://www.tensorflow.org/images/GitHub-Mark-32px.png\" />View source on GitHub</a>\n",
        "  </td>\n",
        "</table>"
      ]
    },
    {
      "cell_type": "code",
      "metadata": {
        "id": "OM-dpqQa9X1g",
        "colab_type": "code",
        "outputId": "4e0d4f3a-79a3-45e3-92a1-77d23a7c2d63",
        "colab": {
          "base_uri": "https://localhost:8080/",
          "height": 290
        }
      },
      "source": [
        "import math\n",
        "import os\n",
        "from random import sample\n",
        "import cPickle as pickle\n",
        "\n",
        "from scipy.spatial.distance import cdist\n",
        "import json\n",
        "import numpy as np\n",
        "\n",
        "\n",
        "!pip install indicoio\n",
        "import indicoio\n",
        "indicoio.config.api_key = '3e308585ac44074507c9515ddd8a0d6f'\n",
        "\n",
        "!pip install texttable\n",
        "from texttable import Texttable\n",
        "\n",
        "from tqdm import tqdm"
      ],
      "execution_count": 17,
      "outputs": [
        {
          "output_type": "stream",
          "text": [
            "Requirement already satisfied: indicoio in /usr/local/lib/python2.7/dist-packages (1.2.0)\n",
            "Requirement already satisfied: requests>=1.2.3 in /usr/local/lib/python2.7/dist-packages (from indicoio) (2.21.0)\n",
            "Requirement already satisfied: numpy>=1.14.1 in /usr/local/lib/python2.7/dist-packages (from indicoio) (1.16.4)\n",
            "Requirement already satisfied: msgpack==0.5.6 in /usr/local/lib/python2.7/dist-packages (from indicoio) (0.5.6)\n",
            "Requirement already satisfied: msgpack-numpy==0.4.1 in /usr/local/lib/python2.7/dist-packages (from indicoio) (0.4.1)\n",
            "Requirement already satisfied: pillow>=2.8.1 in /usr/local/lib/python2.7/dist-packages (from indicoio) (4.3.0)\n",
            "Requirement already satisfied: six>=1.3.0 in /usr/local/lib/python2.7/dist-packages (from indicoio) (1.12.0)\n",
            "Requirement already satisfied: futures>=3.0.0 in /usr/local/lib/python2.7/dist-packages (from indicoio) (3.2.0)\n",
            "Requirement already satisfied: urllib3<1.25,>=1.21.1 in /usr/local/lib/python2.7/dist-packages (from requests>=1.2.3->indicoio) (1.24.3)\n",
            "Requirement already satisfied: certifi>=2017.4.17 in /usr/local/lib/python2.7/dist-packages (from requests>=1.2.3->indicoio) (2019.6.16)\n",
            "Requirement already satisfied: chardet<3.1.0,>=3.0.2 in /usr/local/lib/python2.7/dist-packages (from requests>=1.2.3->indicoio) (3.0.4)\n",
            "Requirement already satisfied: idna<2.9,>=2.5 in /usr/local/lib/python2.7/dist-packages (from requests>=1.2.3->indicoio) (2.8)\n",
            "Requirement already satisfied: msgpack-python>=0.3.0 in /usr/local/lib/python2.7/dist-packages (from msgpack-numpy==0.4.1->indicoio) (0.5.6)\n",
            "Requirement already satisfied: olefile in /usr/local/lib/python2.7/dist-packages (from pillow>=2.8.1->indicoio) (0.46)\n",
            "Requirement already satisfied: texttable in /usr/local/lib/python2.7/dist-packages (1.6.2)\n"
          ],
          "name": "stdout"
        }
      ]
    },
    {
      "cell_type": "code",
      "metadata": {
        "id": "Y9ItaMcGzHW9",
        "colab_type": "code",
        "colab": {}
      },
      "source": [
        "## Making the first call\n",
        "\n",
        "# single example\n",
        "indicoio.sentiment(\"I love writing code!\")"
      ],
      "execution_count": 0,
      "outputs": []
    },
    {
      "cell_type": "code",
      "metadata": {
        "id": "_jcYOU2czSyz",
        "colab_type": "code",
        "colab": {}
      },
      "source": [
        "# batch example\n",
        "indicoio.sentiment([\n",
        "    \"I love writing code!\",\n",
        "    \"Alexander and the Terrible, Horrible, No Good, Very Bad Day\"\n",
        "])"
      ],
      "execution_count": 0,
      "outputs": []
    },
    {
      "cell_type": "code",
      "metadata": {
        "id": "cR9XWlnc0Fra",
        "colab_type": "code",
        "colab": {}
      },
      "source": [
        "faqs = {\n",
        "    'Where can I find my API Key?':'Hi there! You receive an API key upon sign up. After you confirm your email you will be able to log in to your dashboard at indico.io/dashboard and see your API key on the top of the screen.',\n",
        "    'Can indico be downloaded as a package and used offline?':'Unfortunately, no. However we do have a paid option for on premise deployment for enterprise clients.',\n",
        "    'What is indico API credit?':'Hello! indico API credit is what we use to keep track of usage. If you send in 100 bits of text into our API you are charged 100 credits, essentially one credit is consumed per datapoint analyzed. Every user gets 10,000 free API credits per month.',\n",
        "    'Would I be able to set up a Pay as You Go account and have it stop if I reach 10,000 calls so that I won\\'t be charged if I accidentally go over the limit?':'Hi there! Yep, the best way for you to do this would be to sign up for a pay as you go account and don\\'t put in a credit card (we don\\'t require you to). When you hit 10,000 you will be locked out of your account and unable to make more calls until you put a credit card in or you can wait until the first of the month when it resets to 10,000.',\n",
        "    'Hello! When I try to install indico with pip, I get this error on Windows. Do you know why?':'Hello, please try following the steps listed here: https://indico.io/blog/getting-started-indico-tutorial-for-beginning-programmers/#windows and let us know if you still continue to have problems.'\n",
        "}\n"
      ],
      "execution_count": 0,
      "outputs": []
    },
    {
      "cell_type": "code",
      "metadata": {
        "id": "M9aaD6byzd5L",
        "colab_type": "code",
        "colab": {}
      },
      "source": [
        "def make_feats(data):\n",
        "    \"\"\"\n",
        "    Send our text data through the indico API and return each text example's text vector representation\n",
        "    \"\"\"\n",
        "    chunks = [data[x:x+100] for x in xrange(0, len(data), 100)]\n",
        "    feats = []\n",
        "    # just a progress bar to show us how much we have left\n",
        "    for chunk in tqdm(chunks):\n",
        "        feats.extend(indicoio.text_features(chunk))\n",
        "    return feats"
      ],
      "execution_count": 0,
      "outputs": []
    },
    {
      "cell_type": "code",
      "metadata": {
        "id": "d52P7uKoscRk",
        "colab_type": "code",
        "colab": {}
      },
      "source": [
        "def calculate_distances(feats):\n",
        "    # cosine distance is the most reasonable metric for comparison of these 300d vectors\n",
        "    distances = cdist(feats, feats, 'cosine')\n",
        "    return distances"
      ],
      "execution_count": 0,
      "outputs": []
    },
    {
      "cell_type": "code",
      "metadata": {
        "id": "a51Ua3Lqse9b",
        "colab_type": "code",
        "colab": {}
      },
      "source": [
        "def similarity_text(idx, distance_matrix, data, n_similar=5):\n",
        "    \"\"\"\n",
        "    idx: the index of the text we're looking for similar questions to\n",
        "         (data[idx] corresponds to the actual text we care about)\n",
        "    distance_matrix: an m by n matrix that stores the distance between\n",
        "                     document m and document n at distance_matrix[m][n]\n",
        "    data: a flat list of text data\n",
        "    \"\"\"\n",
        "    t = Texttable()\n",
        "    t.set_cols_width([50, 20])\n",
        "\n",
        "    # these are the indexes of the texts that are most similar to the text at data[idx]\n",
        "    # note that this list of 10 elements contains the index of text that we're comparing things to at idx 0\n",
        "    sorted_distance_idxs = np.argsort(distance_matrix[idx])[:n_similar] # EX: [252, 102, 239, ...]\n",
        "    # this is the index of the text that is most similar to the query (index 0)\n",
        "    most_sim_idx = sorted_distance_idxs[1]\n",
        "\n",
        "    # header for texttable\n",
        "    t.add_rows([['Text', 'Similarity']])\n",
        "    print t.draw()\n",
        "\n",
        "    # set the variable that will hold our matching FAQ\n",
        "    faq_match = None\n",
        "\n",
        "    for similar_idx in sorted_distance_idxs:\n",
        "        # actual text data for display\n",
        "        datum = data[similar_idx]\n",
        "\n",
        "        # distance in cosine space from our text example to the similar text example\n",
        "        distance = distance_matrix[idx][similar_idx]\n",
        "\n",
        "        # how similar that text data is to our input example\n",
        "        similarity =  1 - distance\n",
        "\n",
        "        # add the text + the floating point similarity value to our Texttable() object for display\n",
        "        t.add_rows([[datum, str(round(similarity, 2))]])\n",
        "        print t.draw()\n",
        "\n",
        "        # set a confidence threshold\n",
        "        if similar_idx == most_sim_idx and similarity >= 0.75:\n",
        "                faq_match = data[most_sim_idx]\n",
        "        else:\n",
        "            sorry = \"Sorry, I'm not sure how to respond. Let me find someone who can help you.\"\n",
        "\n",
        "    # print the appropriate answer to the FAQ, or bring in a human to respond\n",
        "    if faq_match is not None:\n",
        "            print \"A: %r\" % faqs[faq_match]\n",
        "    else:\n",
        "            print sorry    "
      ],
      "execution_count": 0,
      "outputs": []
    },
    {
      "cell_type": "code",
      "metadata": {
        "id": "bqpGs3fIsuPC",
        "colab_type": "code",
        "colab": {}
      },
      "source": [
        "def input_question(data, feats):\n",
        "    # input a question\n",
        "    question = raw_input(\"What is your question? \")\n",
        "    # add the user question and its vector representations to the corresponding lists, `data` and `feats`\n",
        "    # insert them at index 0 so you know exactly where they are for later distance calculations\n",
        "    if question is not None:\n",
        "        data.insert(0, question)\n",
        "    new_feats = indicoio.text_features(question)\n",
        "    feats.insert(0, new_feats)\n",
        "    return data, feats"
      ],
      "execution_count": 0,
      "outputs": []
    },
    {
      "cell_type": "code",
      "metadata": {
        "id": "nczOf2Rgvn9c",
        "colab_type": "code",
        "colab": {}
      },
      "source": [
        "def run():\n",
        "    data = faqs.keys()\n",
        "    print \"FAQ data received. Finding features.\"\n",
        "    with open('faq_feats.pkl', 'rb') as f:\n",
        "            feats = pickle.load(f)\n",
        "    print \"Features found -- success! Calculating similarities...\"\n",
        "    input_results = input_question(data, feats)\n",
        "    new_data = input_results[0]\n",
        "    new_feats = input_results[1]\n",
        "    distance_matrix = calculate_distances(new_feats)\n",
        "    print \"Similarities found. Generating table.\"\n",
        "    idx = 0\n",
        "    similarity_text(idx, distance_matrix, new_data)\n",
        "    print '\\n' + '-' * 80"
      ],
      "execution_count": 0,
      "outputs": []
    },
    {
      "cell_type": "code",
      "metadata": {
        "id": "Zcgse4Yrvr17",
        "colab_type": "code",
        "colab": {
          "base_uri": "https://localhost:8080/",
          "height": 692
        },
        "outputId": "64e8067e-2917-4d61-cbb4-90ccf50793f4"
      },
      "source": [
        "if __name__ == \"__main__\":\n",
        "    run()"
      ],
      "execution_count": 25,
      "outputs": [
        {
          "output_type": "stream",
          "text": [
            "FAQ data received. Finding features.\n",
            "Features found -- success! Calculating similarities...\n",
            "What is your question? How to locate my API Key?\n",
            "Similarities found. Generating table.\n",
            "+----------------------------------------------------+----------------------+\n",
            "|                        Text                        |      Similarity      |\n",
            "+====================================================+======================+\n",
            "+----------------------------------------------------+----------------------+\n",
            "+----------------------------------------------------+----------------------+\n",
            "|             How to locate my API Key?              |         1.0          |\n",
            "+====================================================+======================+\n",
            "+----------------------------------------------------+----------------------+\n",
            "+----------------------------------------------------+----------------------+\n",
            "|            Where can I find my API Key?            |         0.93         |\n",
            "+====================================================+======================+\n",
            "+----------------------------------------------------+----------------------+\n",
            "+----------------------------------------------------+----------------------+\n",
            "|  Hello! When I try to install indico with pip, I   |         0.8          |\n",
            "|    get this error on Windows. Do you know why?     |                      |\n",
            "+====================================================+======================+\n",
            "+----------------------------------------------------+----------------------+\n",
            "+----------------------------------------------------+----------------------+\n",
            "| Would I be able to set up a Pay as You Go account  |         0.75         |\n",
            "| and have it stop if I reach 10,000 calls so that I |                      |\n",
            "|   won't be charged if I accidentally go over the   |                      |\n",
            "|                       limit?                       |                      |\n",
            "+====================================================+======================+\n",
            "+----------------------------------------------------+----------------------+\n",
            "+----------------------------------------------------+----------------------+\n",
            "|   Can indico be downloaded as a package and used   |         0.72         |\n",
            "|                      offline?                      |                      |\n",
            "+====================================================+======================+\n",
            "+----------------------------------------------------+----------------------+\n",
            "A: 'Hi there! You receive an API key upon sign up. After you confirm your email you will be able to log in to your dashboard at indico.io/dashboard and see your API key on the top of the screen.'\n",
            "\n",
            "--------------------------------------------------------------------------------\n"
          ],
          "name": "stdout"
        }
      ]
    },
    {
      "cell_type": "code",
      "metadata": {
        "id": "N_rKRRWA_Xiy",
        "colab_type": "code",
        "colab": {}
      },
      "source": [
        "# Import custom library from my github\n",
        "\n",
        "import urllib.request\n",
        "\n",
        "def download(url):\n",
        "    filename = url.split('/')[-1]\n",
        "    print ('Downloading', filename)\n",
        "    f =  urllib.request.urlopen(url)\n",
        "    data = f.read()\n",
        "    f.close()\n",
        "    with open(filename, 'wb') as myfile:\n",
        "        myfile.write(data)\n",
        "\n",
        "# get .py file from repository\n",
        "download('https://raw.githubusercontent.com/learning-stack/Colab-ML-Playbook/master/NLP/Automatic%20tagging%20of%20short%20texts/lib/utils.py')\n",
        "\n",
        "# verify the file if necessary\n",
        "# print(open('future_encoders.py').read())"
      ],
      "execution_count": 0,
      "outputs": []
    },
    {
      "cell_type": "code",
      "metadata": {
        "id": "lGwrN2FT_Poz",
        "colab_type": "code",
        "colab": {}
      },
      "source": [
        "from utils import plot_confusion_matrix"
      ],
      "execution_count": 0,
      "outputs": []
    },
    {
      "cell_type": "code",
      "metadata": {
        "id": "YsnSDlsE9X1o",
        "colab_type": "code",
        "colab": {}
      },
      "source": [
        "np.set_printoptions(precision=3, linewidth=100)\n",
        "%matplotlib notebook\n",
        "%matplotlib inline"
      ],
      "execution_count": 0,
      "outputs": []
    }
  ]
}