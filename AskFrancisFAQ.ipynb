{
  "nbformat": 4,
  "nbformat_minor": 0,
  "metadata": {
    "colab": {
      "name": "AskFrancisFAQ.ipynb",
      "version": "0.3.2",
      "provenance": [],
      "include_colab_link": true
    },
    "kernelspec": {
      "name": "python2",
      "display_name": "Python 2"
    },
    "accelerator": "TPU"
  },
  "cells": [
    {
      "cell_type": "markdown",
      "metadata": {
        "id": "view-in-github",
        "colab_type": "text"
      },
      "source": [
        "<a href=\"https://colab.research.google.com/github/learning-stack/Colab-ML-BenProjects/blob/master/AskFrancisFAQ.ipynb\" target=\"_parent\"><img src=\"https://colab.research.google.com/assets/colab-badge.svg\" alt=\"Open In Colab\"/></a>"
      ]
    },
    {
      "cell_type": "markdown",
      "metadata": {
        "id": "uZldgz5j9X1c",
        "colab_type": "text"
      },
      "source": [
        "# Ask Francis FAQ\n",
        "FLL (web@fll.cc)\n"
      ]
    },
    {
      "cell_type": "markdown",
      "metadata": {
        "id": "EVaQ3oSjSmDL",
        "colab_type": "text"
      },
      "source": [
        "<table class=\"tfo-notebook-buttons\" align=\"left\">\n",
        "  <td>\n",
        "    <a target=\"_blank\" href=\"https://colab.research.google.com/github/learning-stack/Colab-ML-BenProjects/blob/master/AskFrancisFAQ/AskFrancisFAQ.ipynb\"><img src=\"https://www.tensorflow.org/images/colab_logo_32px.png\" />Run in Google Colab</a>\n",
        "  </td>\n",
        "  <td>\n",
        "    <a target=\"_blank\" href=\"https://github.com/learning-stack/Colab-ML-BenProjects/blob/master/AskFrancisFAQ/AskFrancisFAQ.ipynb\"><img src=\"https://www.tensorflow.org/images/GitHub-Mark-32px.png\" />View source on GitHub</a>\n",
        "  </td>\n",
        "</table>"
      ]
    },
    {
      "cell_type": "code",
      "metadata": {
        "id": "OM-dpqQa9X1g",
        "colab_type": "code",
        "outputId": "5d025e73-3db2-4b63-d37d-a86d68873148",
        "colab": {
          "base_uri": "https://localhost:8080/",
          "height": 290
        }
      },
      "source": [
        "import math\n",
        "import os\n",
        "from random import sample\n",
        "import cPickle as pickle\n",
        "\n",
        "from scipy.spatial.distance import cdist\n",
        "import json\n",
        "import numpy as np\n",
        "\n",
        "\n",
        "!pip install indicoio\n",
        "import indicoio\n",
        "indicoio.config.api_key = '3e308585ac44074507c9515ddd8a0d6f'\n",
        "\n",
        "!pip install texttable\n",
        "from texttable import Texttable\n",
        "\n",
        "from tqdm import tqdm"
      ],
      "execution_count": 1,
      "outputs": [
        {
          "output_type": "stream",
          "text": [
            "Requirement already satisfied: indicoio in /usr/local/lib/python2.7/dist-packages (1.2.0)\n",
            "Requirement already satisfied: requests>=1.2.3 in /usr/local/lib/python2.7/dist-packages (from indicoio) (2.21.0)\n",
            "Requirement already satisfied: numpy>=1.14.1 in /usr/local/lib/python2.7/dist-packages (from indicoio) (1.16.4)\n",
            "Requirement already satisfied: msgpack==0.5.6 in /usr/local/lib/python2.7/dist-packages (from indicoio) (0.5.6)\n",
            "Requirement already satisfied: msgpack-numpy==0.4.1 in /usr/local/lib/python2.7/dist-packages (from indicoio) (0.4.1)\n",
            "Requirement already satisfied: pillow>=2.8.1 in /usr/local/lib/python2.7/dist-packages (from indicoio) (4.3.0)\n",
            "Requirement already satisfied: six>=1.3.0 in /usr/local/lib/python2.7/dist-packages (from indicoio) (1.12.0)\n",
            "Requirement already satisfied: futures>=3.0.0 in /usr/local/lib/python2.7/dist-packages (from indicoio) (3.2.0)\n",
            "Requirement already satisfied: urllib3<1.25,>=1.21.1 in /usr/local/lib/python2.7/dist-packages (from requests>=1.2.3->indicoio) (1.24.3)\n",
            "Requirement already satisfied: certifi>=2017.4.17 in /usr/local/lib/python2.7/dist-packages (from requests>=1.2.3->indicoio) (2019.6.16)\n",
            "Requirement already satisfied: chardet<3.1.0,>=3.0.2 in /usr/local/lib/python2.7/dist-packages (from requests>=1.2.3->indicoio) (3.0.4)\n",
            "Requirement already satisfied: idna<2.9,>=2.5 in /usr/local/lib/python2.7/dist-packages (from requests>=1.2.3->indicoio) (2.8)\n",
            "Requirement already satisfied: msgpack-python>=0.3.0 in /usr/local/lib/python2.7/dist-packages (from msgpack-numpy==0.4.1->indicoio) (0.5.6)\n",
            "Requirement already satisfied: olefile in /usr/local/lib/python2.7/dist-packages (from pillow>=2.8.1->indicoio) (0.46)\n",
            "Requirement already satisfied: texttable in /usr/local/lib/python2.7/dist-packages (1.6.2)\n"
          ],
          "name": "stdout"
        }
      ]
    },
    {
      "cell_type": "code",
      "metadata": {
        "id": "cR9XWlnc0Fra",
        "colab_type": "code",
        "colab": {}
      },
      "source": [
        "faqs = {\n",
        "    'My husband is a Christian and I am a Catholic and we have been married for over thirty years. Two years ago, I was diagnosed with cancer. When struggling from my sickness, I asked my husband to go to learn Catholic bible so that he can be baptized as a Catholic once I recovered. He agreed but his friends and old classmates learnt of this and said he is a traitor from his own religion. How can I comfort my husband for being called a traitor by his friends?':'Q1',\n",
        "    'Some ladies wear a veil to mass but most don’t. Some wear black and some wear white. What is the meaning of the veil?':'Q2',\n",
        "    'I have been trying to quit my bad habit of patronizing massage parlors for ages as I now know it is conflicting with the sixth commandment. My sex drive pushes me so hard that I use masturbation with porn videos so to avoid the action of buying sexual satisfaction. Which action is more serious?':'Q3',\n",
        "    'If we live with a pagan family, can we eat the food offered for the gods and ancestors, or help them light the incense at home for the ancestor？':'Q4',\n",
        "    'Can a widower be ordained priest?':'Q5',\n",
        "    'Can a catholic baptise a non-catholic who is dying and unable to express his wishes concerning baptism?':'Q6',\n",
        "    'Why is it that the catholic Bible has books that the other Bibles don’t contain?':'Q7',\t\n",
        "    'Why do we Catholics have structured prayers other than the “Our Father”?':'Q8',\t\n",
        "    'Are we all affected by our ancestors’ sins if they have not paid off yet?':'Q9',\t\n",
        "    'Is Christianity a made-up religion by people who want to change the society and risked their lives doing this? Can it be fake? I know there are historical evidence of Jesus from historians but can they lie too? Can the apostles lie? Can the miracles and contents of the Bible be fake? I really do want to believe because I know that a lot of good things can happen to me and the service I can provide for God but I really have a lot of doubts. Please help Fr. Francis!':'Q10',\t\n",
        "}"
      ],
      "execution_count": 0,
      "outputs": []
    },
    {
      "cell_type": "code",
      "metadata": {
        "id": "M9aaD6byzd5L",
        "colab_type": "code",
        "colab": {}
      },
      "source": [
        "def make_feats(data):\n",
        "    \"\"\"\n",
        "    Send our text data through the indico API and return each text example's text vector representation\n",
        "    \"\"\"\n",
        "    chunks = [data[x:x+100] for x in xrange(0, len(data), 100)]\n",
        "    feats = []\n",
        "    # just a progress bar to show us how much we have left\n",
        "    for chunk in tqdm(chunks):\n",
        "        feats.extend(indicoio.text_features(chunk))\n",
        "    return feats"
      ],
      "execution_count": 0,
      "outputs": []
    },
    {
      "cell_type": "code",
      "metadata": {
        "id": "d52P7uKoscRk",
        "colab_type": "code",
        "colab": {}
      },
      "source": [
        "def calculate_distances(feats):\n",
        "    # cosine distance is the most reasonable metric for comparison of these 300d vectors\n",
        "    distances = cdist(feats, feats, 'cosine')\n",
        "    return distances"
      ],
      "execution_count": 0,
      "outputs": []
    },
    {
      "cell_type": "code",
      "metadata": {
        "id": "a51Ua3Lqse9b",
        "colab_type": "code",
        "colab": {}
      },
      "source": [
        "def similarity_text(idx, distance_matrix, data, n_similar=5):\n",
        "    \"\"\"\n",
        "    idx: the index of the text we're looking for similar questions to\n",
        "         (data[idx] corresponds to the actual text we care about)\n",
        "    distance_matrix: an m by n matrix that stores the distance between\n",
        "                     document m and document n at distance_matrix[m][n]\n",
        "    data: a flat list of text data\n",
        "    \"\"\"\n",
        "    t = Texttable()\n",
        "    t.set_cols_width([50, 20])\n",
        "\n",
        "    # these are the indexes of the texts that are most similar to the text at data[idx]\n",
        "    # note that this list of 10 elements contains the index of text that we're comparing things to at idx 0\n",
        "    sorted_distance_idxs = np.argsort(distance_matrix[idx])[:n_similar] # EX: [252, 102, 239, ...]\n",
        "    # this is the index of the text that is most similar to the query (index 0)\n",
        "    most_sim_idx = sorted_distance_idxs[1]\n",
        "\n",
        "    # header for texttable\n",
        "    t.add_rows([['Text', 'Similarity']])\n",
        "    print t.draw()\n",
        "\n",
        "    # set the variable that will hold our matching FAQ\n",
        "    faq_match = None\n",
        "\n",
        "    for similar_idx in sorted_distance_idxs:\n",
        "        # actual text data for display\n",
        "        datum = data[similar_idx]\n",
        "\n",
        "        # distance in cosine space from our text example to the similar text example\n",
        "        distance = distance_matrix[idx][similar_idx]\n",
        "\n",
        "        # how similar that text data is to our input example\n",
        "        similarity =  1 - distance\n",
        "\n",
        "        # add the text + the floating point similarity value to our Texttable() object for display\n",
        "        t.add_rows([[datum, str(round(similarity, 2))]])\n",
        "        print t.draw()\n",
        "\n",
        "        # set a confidence threshold\n",
        "        if similar_idx == most_sim_idx and similarity >= 0.80:\n",
        "                faq_match = data[most_sim_idx]\n",
        "        else:\n",
        "            sorry = \"Sorry, I'm not sure how to respond. Let me find someone who can help you.\"\n",
        "\n",
        "    # print the appropriate answer to the FAQ, or bring in a human to respond\n",
        "    if faq_match is not None:\n",
        "            print \"A: %r\" % faqs[faq_match]\n",
        "    else:\n",
        "            print sorry    "
      ],
      "execution_count": 0,
      "outputs": []
    },
    {
      "cell_type": "code",
      "metadata": {
        "id": "bqpGs3fIsuPC",
        "colab_type": "code",
        "colab": {}
      },
      "source": [
        "def input_question(data, feats):\n",
        "    # input a question\n",
        "    question = raw_input(\"What is your question? \")\n",
        "    # add the user question and its vector representations to the corresponding lists, `data` and `feats`\n",
        "    # insert them at index 0 so you know exactly where they are for later distance calculations\n",
        "    if question is not None:\n",
        "        data.insert(0, question)\n",
        "    new_feats = indicoio.text_features(question)\n",
        "    feats.insert(0, new_feats)\n",
        "    return data, feats"
      ],
      "execution_count": 0,
      "outputs": []
    },
    {
      "cell_type": "code",
      "metadata": {
        "id": "nczOf2Rgvn9c",
        "colab_type": "code",
        "colab": {}
      },
      "source": [
        "def run():\n",
        "    data = faqs.keys()\n",
        "    print \"FAQ data received. Finding features.\"\n",
        "    feats = make_feats(data)\n",
        "    with open('faq_feats.pkl', 'wb') as f:\n",
        "        pickle.dump(feats, f)    \n",
        "    with open('faq_feats.pkl', 'rb') as f:\n",
        "        feats = pickle.load(f)\n",
        "    print \"Features found -- success! Calculating similarities...\"\n",
        "    input_results = input_question(data, feats)\n",
        "    new_data = input_results[0]\n",
        "    new_feats = input_results[1]\n",
        "    distance_matrix = calculate_distances(new_feats)\n",
        "    print \"Similarities found. Generating table.\"\n",
        "    idx = 0\n",
        "    similarity_text(idx, distance_matrix, new_data)\n",
        "    print '\\n' + '-' * 80"
      ],
      "execution_count": 0,
      "outputs": []
    },
    {
      "cell_type": "code",
      "metadata": {
        "id": "Zcgse4Yrvr17",
        "colab_type": "code",
        "colab": {
          "base_uri": "https://localhost:8080/",
          "height": 963
        },
        "outputId": "4ecbc97b-16a4-4cf9-ccbd-0e5a3721d785"
      },
      "source": [
        "if __name__ == \"__main__\":\n",
        "    run()"
      ],
      "execution_count": 8,
      "outputs": [
        {
          "output_type": "stream",
          "text": [
            "100%|██████████| 1/1 [00:00<00:00,  5.18it/s]"
          ],
          "name": "stderr"
        },
        {
          "output_type": "stream",
          "text": [
            "FAQ data received. Finding features.\n"
          ],
          "name": "stdout"
        },
        {
          "output_type": "stream",
          "text": [
            "\n"
          ],
          "name": "stderr"
        },
        {
          "output_type": "stream",
          "text": [
            "Features found -- success! Calculating similarities...\n",
            "What is your question? Can I marry an ordained priest?\n",
            "Similarities found. Generating table.\n",
            "+----------------------------------------------------+----------------------+\n",
            "|                        Text                        |      Similarity      |\n",
            "+====================================================+======================+\n",
            "+----------------------------------------------------+----------------------+\n",
            "+----------------------------------------------------+----------------------+\n",
            "|          Can I marry an ordained priest?           |         1.0          |\n",
            "+====================================================+======================+\n",
            "+----------------------------------------------------+----------------------+\n",
            "+----------------------------------------------------+----------------------+\n",
            "|         Can a widower be ordained priest?          |         0.93         |\n",
            "+====================================================+======================+\n",
            "+----------------------------------------------------+----------------------+\n",
            "+----------------------------------------------------+----------------------+\n",
            "| Can a catholic baptise a non-catholic who is dying |         0.82         |\n",
            "|    and unable to express his wishes concerning     |                      |\n",
            "|                      baptism?                      |                      |\n",
            "+====================================================+======================+\n",
            "+----------------------------------------------------+----------------------+\n",
            "+----------------------------------------------------+----------------------+\n",
            "| My husband is a Christian and I am a Catholic and  |         0.79         |\n",
            "|  we have been married for over thirty years. Two   |                      |\n",
            "|    years ago, I was diagnosed with cancer. When    |                      |\n",
            "| struggling from my sickness, I asked my husband to |                      |\n",
            "|    go to learn Catholic bible so that he can be    |                      |\n",
            "| baptized as a Catholic once I recovered. He agreed |                      |\n",
            "| but his friends and old classmates learnt of this  |                      |\n",
            "|  and said he is a traitor from his own religion.   |                      |\n",
            "|  How can I comfort my husband for being called a   |                      |\n",
            "|              traitor by his friends?               |                      |\n",
            "+====================================================+======================+\n",
            "+----------------------------------------------------+----------------------+\n",
            "+----------------------------------------------------+----------------------+\n",
            "|  Is Christianity a made-up religion by people who  |         0.77         |\n",
            "| want to change the society and risked their lives  |                      |\n",
            "|    doing this? Can it be fake? I know there are    |                      |\n",
            "|  historical evidence of Jesus from historians but  |                      |\n",
            "|  can they lie too? Can the apostles lie? Can the   |                      |\n",
            "|   miracles and contents of the Bible be fake? I    |                      |\n",
            "|  really do want to believe because I know that a   |                      |\n",
            "|    lot of good things can happen to me and the     |                      |\n",
            "| service I can provide for God but I really have a  |                      |\n",
            "|      lot of doubts. Please help Fr. Francis!       |                      |\n",
            "+====================================================+======================+\n",
            "+----------------------------------------------------+----------------------+\n",
            "A: 'Q5'\n",
            "\n",
            "--------------------------------------------------------------------------------\n"
          ],
          "name": "stdout"
        }
      ]
    }
  ]
}